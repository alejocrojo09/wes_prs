{
 "cells": [
  {
   "cell_type": "code",
   "execution_count": null,
   "id": "445dd569-a8ca-48ae-84e9-2947bb458f4b",
   "metadata": {},
   "outputs": [],
   "source": [
    "library(dplyr)\n",
    "library(data.table)\n",
    "library(reshape2)"
   ]
  },
  {
   "cell_type": "code",
   "execution_count": null,
   "id": "6b215b7d-1f6e-442e-bb97-065144c014ce",
   "metadata": {},
   "outputs": [],
   "source": [
    "ind.path = '{location polyfun output}'"
   ]
  },
  {
   "cell_type": "code",
   "execution_count": null,
   "id": "03238943-fa0d-4047-a64d-55a1e59f018e",
   "metadata": {},
   "outputs": [],
   "source": [
    "fine.all = data.frame()\n",
    "signals.all = data.frame()\n",
    "for (trait in traits){\n",
    "    n.locus = length(list.files(paste(ind.path,trait,'/',sep = ''), pattern = '*.finemap$'))\n",
    "    fine.trait = data.frame()\n",
    "    signal.trait = data.frame()\n",
    "    for (i in 1:n.locus){\n",
    "        fine.locus = fread(paste(ind.path,trait,'/','locus_',i,'.finemap', sep = ''))\n",
    "        fine.locus$Trait = trait\n",
    "        fine.trait = rbind(fine.trait, fine.locus)\n",
    "        \n",
    "        n_signal = max(fine.locus$CREDIBLE_SET)\n",
    "        locus = i\n",
    "        signal.locus = data.frame(trait, locus, n_signal)\n",
    "        signal.trait = rbind(signal.trait, signal.locus)\n",
    "    }\n",
    "    fine.all = rbind(fine.all, fine.trait)\n",
    "    signals.all = rbind(signals.all, signal.trait)\n",
    "}\n",
    "#write.table(fine.all,wes.finemap, col.names = TRUE, row.names = FALSE, quote = FALSE) \n",
    "#write.table(signals.all,wes.signals, col.names = TRUE, row.names = FALSE, quote = FALSE)"
   ]
  }
 ],
 "metadata": {
  "kernelspec": {
   "display_name": "r-precisionh",
   "language": "R",
   "name": "r"
  },
  "language_info": {
   "codemirror_mode": "r",
   "file_extension": ".r",
   "mimetype": "text/x-r-source",
   "name": "R",
   "pygments_lexer": "r",
   "version": "4.1.3"
  }
 },
 "nbformat": 4,
 "nbformat_minor": 5
}
