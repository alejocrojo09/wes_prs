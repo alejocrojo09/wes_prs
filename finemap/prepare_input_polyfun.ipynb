{
 "cells": [
  {
   "cell_type": "code",
   "execution_count": null,
   "id": "52e95af8-88ed-44ab-bcfd-54dfd13444ec",
   "metadata": {},
   "outputs": [],
   "source": [
    "library(dplyr)\n",
    "library(data.table)\n",
    "library(reshape2)"
   ]
  },
  {
   "cell_type": "code",
   "execution_count": null,
   "id": "73a9202c-a95b-4fa7-b156-529bfced75e6",
   "metadata": {},
   "outputs": [],
   "source": [
    "traits = c(\"BMI\", \"SBP\", \"DBP\", \"LDL\", \"HBA1C\", \"VITD\", \"ALT\", \"ALB\" ,\"ALP\" ,\"APOA\", \"APOB\", \"AST\", \"CAL\", \"CHO\" ,\"CREA\", \"CRP\", \"GGT\", \"GLUC\", \"HDL\", \"IGF1\", \"PHOS\", \"SHBG\", \"TBIL\", \"TPROT\", \"TRIG\", \"URA\", \"URT\")"
   ]
  },
  {
   "cell_type": "code",
   "execution_count": null,
   "id": "24020e71-e12a-4c85-aa47-15a7f957e50a",
   "metadata": {},
   "outputs": [],
   "source": [
    "fuma.path = '{location of indepedent SNPs from fuma}'\n",
    "sst.path = '{location of summary statistics}'"
   ]
  },
  {
   "cell_type": "code",
   "execution_count": null,
   "id": "2408a5c7-f59b-4ec2-b5e8-360f7cf4ec43",
   "metadata": {},
   "outputs": [],
   "source": [
    "output = '{output path}'\n",
    "kb = 5000000\n",
    "loci.all = data.frame()\n",
    "for (trait in traits){\n",
    "    df.ind = fread(paste(fuma.path,trait,'/IndSigSNPs.txt', sep = ''))\n",
    "    df.sst = fread(paste(sst.path,trait,'.regenie',sep=''))\n",
    "    \n",
    "    for (i in 1:nrow(df.ind)){\n",
    "        pos.locus = df.ind$pos[i]\n",
    "        chr.locus = df.ind$chr[i]\n",
    "        \n",
    "        if (pos.locus - kb < 0){\n",
    "            start = pos.locus\n",
    "        } else {\n",
    "            start = pos.locus - kb\n",
    "        }\n",
    "        end = pos.locus + kb\n",
    "        \n",
    "        sst.locus = df.sst %>% filter(CHR == chr.locus) %>% filter(BP > pos.locus - kb & BP < pos.locus + kb)\n",
    "        sst.locus = sst.locus %>% select(CHR,BP,SNP,ALLELE1,ALLELE0,Z)\n",
    "        colnames(sst.locus) = c('CHR','BP','SNP','A1','A2','Z')\n",
    "        write.table(sst.locus, paste(output,trait,'/','locus_',i,'.sst', sep = ''), col.names = TRUE, row.names = FALSE, quote = FALSE)\n",
    "        \n",
    "        \n",
    "        locus.number = i\n",
    "        locus.trait = data.frame(trait, chr.locus, pos.locus, start, end, locus.number)\n",
    "        loci.all = rbind(loci.all, locus.trait)\n",
    "        write.table(loci.all, paste(output,'ind_loci.pos', sep = ''), col.names = TRUE, row.names = FALSE, quote = FALSE)\n",
    "    }\n",
    "    \n",
    "}"
   ]
  }
 ],
 "metadata": {
  "kernelspec": {
   "display_name": "r-precisionh",
   "language": "R",
   "name": "r"
  },
  "language_info": {
   "codemirror_mode": "r",
   "file_extension": ".r",
   "mimetype": "text/x-r-source",
   "name": "R",
   "pygments_lexer": "r",
   "version": "4.1.3"
  }
 },
 "nbformat": 4,
 "nbformat_minor": 5
}
