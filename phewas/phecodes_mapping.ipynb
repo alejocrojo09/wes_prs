{
 "cells": [
  {
   "cell_type": "markdown",
   "id": "f20060ed-9d95-4724-a4d2-f0f6dd16bdab",
   "metadata": {
    "tags": []
   },
   "source": [
    "# Phenome-wide association analysis (PheWAS)\n",
    "\n",
    "Most prevalent diseases in Belgium:\n",
    "\n",
    "- Diabetes: type 2 diabetes \n",
    "- Cancer: prostate and breast cancer \n",
    "- Cardiovascular disease: ischemic heart disease and hypertension \n",
    "- Muscoloskeletal: low back pain, neck pain, osteoarthritis, dosorpathies, and arthropathies\n",
    "- Mental and neurological disorders: anxiety and depression\n",
    "- Infectious diseases: influenza\n",
    "- Immune disorders: rheumatoid arthritis \n",
    "- Respiratory disease: chronic obstructive disease\n",
    "- Obesity"
   ]
  },
  {
   "cell_type": "code",
   "execution_count": 1,
   "id": "1d0ec589-3c24-4734-94b2-de391e1d5607",
   "metadata": {},
   "outputs": [
    {
     "name": "stderr",
     "output_type": "stream",
     "text": [
      "\n",
      "Attaching package: ‘dplyr’\n",
      "\n",
      "\n",
      "The following objects are masked from ‘package:data.table’:\n",
      "\n",
      "    between, first, last\n",
      "\n",
      "\n",
      "The following objects are masked from ‘package:stats’:\n",
      "\n",
      "    filter, lag\n",
      "\n",
      "\n",
      "The following objects are masked from ‘package:base’:\n",
      "\n",
      "    intersect, setdiff, setequal, union\n",
      "\n",
      "\n",
      "\n",
      "Attaching package: ‘reshape2’\n",
      "\n",
      "\n",
      "The following objects are masked from ‘package:data.table’:\n",
      "\n",
      "    dcast, melt\n",
      "\n",
      "\n",
      "Loading required package: tidyr\n",
      "\n",
      "\n",
      "Attaching package: ‘tidyr’\n",
      "\n",
      "\n",
      "The following object is masked from ‘package:reshape2’:\n",
      "\n",
      "    smiths\n",
      "\n",
      "\n",
      "Loading required package: ggplot2\n",
      "\n",
      "Loading required package: parallel\n",
      "\n",
      "Welcome to the new version of PheWAS. This version has many updates; please see https://github.com/PheWAS/PheWAS/tree/legacy for the legacy release if needed. Check ?PheWAS for more documentation\n",
      "\n"
     ]
    }
   ],
   "source": [
    "library(data.table)\n",
    "library(dplyr)\n",
    "library(stringr)\n",
    "library(reshape2)\n",
    "library(PheWAS)"
   ]
  },
  {
   "cell_type": "code",
   "execution_count": 2,
   "id": "30d76402-c02b-4fcb-9a21-19f58e18356e",
   "metadata": {},
   "outputs": [],
   "source": [
    "# Test dataset\n",
    "panel.test = read.table('panel_test.tab', header = TRUE)\n",
    "ids = read.table('phewas.ids', header = FALSE)\n",
    "\n",
    "panel.test = panel.test %>% filter(FID %in% ids$V1)\n",
    "\n",
    "target.ids = panel.test %>% select(FID,IID)\n",
    "\n",
    "gender = panel.test %>% select(FID, sex)\n",
    "males = gender %>% filter(sex == 1) %>% select(FID)\n",
    "females = gender %>% filter(sex == 2) %>% select(FID)"
   ]
  },
  {
   "cell_type": "code",
   "execution_count": 4,
   "id": "9f69c4f4-f0c2-4723-a3b2-11aa1b15fa38",
   "metadata": {},
   "outputs": [],
   "source": [
    "# Load ICD diagnoses\n",
    "load('ukb_icd10.rda') # ukb.icd10\n",
    "load('ukb_icd9.rda') # ukb.icd9 = ukb.ic9"
   ]
  },
  {
   "cell_type": "code",
   "execution_count": 5,
   "id": "5e80d8d1-c4ed-4c9b-90e1-d21a6ce37764",
   "metadata": {},
   "outputs": [],
   "source": [
    "# Load phecode databases\n",
    "data(sex_restriction)\n",
    "data(phemap)\n",
    "data(phecode_map_icd10)\n",
    "data(phecode_exclude)\n",
    "data(phecode_rollup_map)\n",
    "data(pheinfo)\n",
    "\n",
    "phecode.sex = sex_restriction\n",
    "phemap.icd9 = phemap\n",
    "phemap.icd10 = phecode_map_icd10\n",
    "phecode.excl = phecode_exclude\n",
    "phecode.ont = phecode_rollup_map\n",
    "pheinfo = pheinfo\n",
    "\n",
    "phemap.icd10 = phemap.icd10 %>% rename('icd10' = 'code')\n",
    "#phecodes.main = pheinfo %>% filter(!str_detect(phecode, \"\\\\.\"))"
   ]
  },
  {
   "cell_type": "code",
   "execution_count": 6,
   "id": "bf97bb83-35c3-4c23-acbc-3933ef8ce1b5",
   "metadata": {},
   "outputs": [],
   "source": [
    "# Subset diagnoses data to target ids\n",
    "target.icd9 = ukb.icd9 %>% filter(sample %in% target.ids$FID)\n",
    "target.icd10 = ukb.icd10 %>% filter(sample %in% target.ids$FID)"
   ]
  },
  {
   "cell_type": "code",
   "execution_count": 7,
   "id": "77800e2f-047c-4845-8d8f-6a2aeedeaf80",
   "metadata": {},
   "outputs": [],
   "source": [
    "target.full = bind_rows(target.icd9,target.icd10)"
   ]
  },
  {
   "cell_type": "code",
   "execution_count": 8,
   "id": "3028092b-c32b-4d35-9b80-e8f8019689a5",
   "metadata": {},
   "outputs": [],
   "source": [
    "# Map ICD9 data to phecodes\n",
    "phemap.icd9$code = sub(\"\\\\.\", \"\", phemap.icd9$icd9)\n",
    "phemap.icd9 = inner_join(phemap.icd9, pheinfo, by = 'phecode')\n",
    "phemap.icd9 = phemap.icd9 %>% select(c(icd9, phecode, code, description, group))\n",
    "\n",
    "# Map ICD10 data to phecodes\n",
    "phemap.icd10$code = sub(\"\\\\.\", \"\", phemap.icd10$icd10)\n",
    "phemap.icd10 = inner_join(phemap.icd10, pheinfo, by = 'phecode')\n",
    "phemap.icd10 = phemap.icd10 %>% select(c(icd10, phecode, code, description, group))\n",
    "\n",
    "# Merge with target.icd9\n",
    "target.icd9 = inner_join(target.icd9, phemap.icd9, by = 'code')\n",
    "target.icd9 = target.icd9 %>% rename('icd' = 'icd9')\n",
    "target.icd10 = inner_join(target.icd10, phemap.icd10, by = 'code')\n",
    "target.icd10 = target.icd10 %>% rename('icd' = 'icd10')\n",
    "\n",
    "# Full diagnoses\n",
    "target.icd = bind_rows(target.icd9,target.icd10)\n",
    "\n",
    "write.table(target.icd, 'target_phecode_qc.tab', col.names = TRUE, row.names = FALSE, quote = FALSE, sep = '\\t')"
   ]
  },
  {
   "cell_type": "markdown",
   "id": "dd8b6feb-992f-4ccc-855c-24606fe489c4",
   "metadata": {},
   "source": [
    "### Endocrine/metabolic disorders"
   ]
  },
  {
   "cell_type": "markdown",
   "id": "f1e9a8ee-5d4d-4001-8633-38ff60ac829c",
   "metadata": {},
   "source": [
    "#### Type 2 diabetes"
   ]
  },
  {
   "cell_type": "code",
   "execution_count": 11,
   "id": "7035c9d6-5aab-47ce-9096-1123576db881",
   "metadata": {},
   "outputs": [
    {
     "data": {
      "text/html": [
       "1227"
      ],
      "text/latex": [
       "1227"
      ],
      "text/markdown": [
       "1227"
      ],
      "text/plain": [
       "[1] 1227"
      ]
     },
     "metadata": {},
     "output_type": "display_data"
    },
    {
     "data": {
      "text/html": [
       "20897"
      ],
      "text/latex": [
       "20897"
      ],
      "text/markdown": [
       "20897"
      ],
      "text/plain": [
       "[1] 20897"
      ]
     },
     "metadata": {},
     "output_type": "display_data"
    }
   ],
   "source": [
    "dis.excl.codes = phecode.excl %>% filter(code == '250.2')\n",
    "dis.excl.codes = dis.excl.codes$exclusion_criteria\n",
    "\n",
    "dis.excl.ind = target.icd %>% filter(phecode %in% dis.excl.codes)\n",
    "dis.excl.samples = dis.excl.ind$sample\n",
    "\n",
    "dis.cases = target.icd %>% filter(phecode == '250.2')\n",
    "dis.cases = dis.cases$sample\n",
    "\n",
    "dis.controls = target.ids %>% filter(!FID %in% dis.cases) %>% filter(!FID %in% dis.excl.samples)\n",
    "dis.controls = dis.controls$FID\n",
    "\n",
    "# Cases and controls\n",
    "cases = rep(1,length(dis.cases))\n",
    "length(cases)\n",
    "controls = rep(0,length(dis.controls))\n",
    "length(controls)\n",
    "T2D = c(cases,controls)\n",
    "FID = c(dis.cases, dis.controls)\n",
    "IID = FID\n",
    "T2D.df = data.frame(FID,IID,T2D)\n",
    "T2D.df = distinct(T2D.df)\n",
    "write.table(T2D.df, 'disease_table/t2d.pheno', col.names = TRUE, row.names = FALSE, quote = FALSE)"
   ]
  },
  {
   "cell_type": "markdown",
   "id": "209bc4e2-89cf-4f1f-b79d-595120046152",
   "metadata": {},
   "source": [
    "#### Obesity"
   ]
  },
  {
   "cell_type": "code",
   "execution_count": 22,
   "id": "921f4fcd-a73a-4288-91cc-049467be20c8",
   "metadata": {},
   "outputs": [
    {
     "data": {
      "text/html": [
       "1426"
      ],
      "text/latex": [
       "1426"
      ],
      "text/markdown": [
       "1426"
      ],
      "text/plain": [
       "[1] 1426"
      ]
     },
     "metadata": {},
     "output_type": "display_data"
    },
    {
     "data": {
      "text/html": [
       "20772"
      ],
      "text/latex": [
       "20772"
      ],
      "text/markdown": [
       "20772"
      ],
      "text/plain": [
       "[1] 20772"
      ]
     },
     "metadata": {},
     "output_type": "display_data"
    }
   ],
   "source": [
    "dis.excl.codes = phecode.excl %>% filter(code == '278.1')\n",
    "dis.excl.codes = dis.excl.codes$exclusion_criteria\n",
    "\n",
    "dis.excl.ind = target.icd %>% filter(phecode %in% dis.excl.codes)\n",
    "dis.excl.samples = dis.excl.ind$sample\n",
    "\n",
    "dis.cases = target.icd %>% filter(phecode == '278.1')\n",
    "dis.cases = dis.cases$sample\n",
    "\n",
    "dis.controls = target.ids %>% filter(!FID %in% dis.cases) %>% filter(!FID %in% dis.excl.samples)\n",
    "dis.controls = dis.controls$FID\n",
    "\n",
    "# Cases and controls\n",
    "cases = rep(1,length(dis.cases))\n",
    "length(cases)\n",
    "controls = rep(0,length(dis.controls))\n",
    "length(controls)\n",
    "OBS = c(cases,controls)\n",
    "FID = c(dis.cases, dis.controls)\n",
    "IID = FID\n",
    "OBS.df = data.frame(FID,IID,OBS)\n",
    "OBS.df = distinct(OBS.df)\n",
    "write.table(OBS.df, 'disease_table/obs.pheno', col.names = TRUE, row.names = FALSE, quote = FALSE)"
   ]
  },
  {
   "cell_type": "markdown",
   "id": "40818285-58db-429d-93ae-84e05a777c48",
   "metadata": {},
   "source": [
    "### Cardiovascular diseases"
   ]
  },
  {
   "cell_type": "markdown",
   "id": "4f1f7d73-3f3e-454f-a901-cd08f33038ea",
   "metadata": {},
   "source": [
    "#### Ischemic heart disease"
   ]
  },
  {
   "cell_type": "code",
   "execution_count": 24,
   "id": "b1c80da2-282d-4e77-81a6-7f8345ec6825",
   "metadata": {},
   "outputs": [
    {
     "data": {
      "text/html": [
       "3981"
      ],
      "text/latex": [
       "3981"
      ],
      "text/markdown": [
       "3981"
      ],
      "text/plain": [
       "[1] 3981"
      ]
     },
     "metadata": {},
     "output_type": "display_data"
    },
    {
     "data": {
      "text/html": [
       "20467"
      ],
      "text/latex": [
       "20467"
      ],
      "text/markdown": [
       "20467"
      ],
      "text/plain": [
       "[1] 20467"
      ]
     },
     "metadata": {},
     "output_type": "display_data"
    }
   ],
   "source": [
    "dis.cases.p = target.icd %>% filter(str_detect(phecode, c('411')))\n",
    "dis.cases = dis.cases.p$sample\n",
    "\n",
    "dis.controls = target.ids %>% filter(!FID %in% dis.cases) \n",
    "dis.controls = dis.controls$FID\n",
    "\n",
    "# Cases and controls\n",
    "cases = rep(1,length(dis.cases))\n",
    "length(cases)\n",
    "controls = rep(0,length(dis.controls))\n",
    "length(controls)\n",
    "ISC = c(cases,controls)\n",
    "FID = c(dis.cases, dis.controls)\n",
    "IID = FID\n",
    "ISC.df = data.frame(FID,IID,ISC)\n",
    "ISC.df = ISC.df %>% distinct()\n",
    "write.table(ISC.df, 'disease_table/isc.pheno', col.names = TRUE, row.names = FALSE, quote = FALSE)"
   ]
  },
  {
   "cell_type": "code",
   "execution_count": 25,
   "id": "b6886e07-1776-4ae2-96dc-ebbc80b1c6d2",
   "metadata": {},
   "outputs": [
    {
     "data": {
      "text/html": [
       "<style>\n",
       ".list-inline {list-style: none; margin:0; padding: 0}\n",
       ".list-inline>li {display: inline-block}\n",
       ".list-inline>li:not(:last-child)::after {content: \"\\00b7\"; padding: 0 .5ex}\n",
       "</style>\n",
       "<ol class=list-inline><li>1651</li><li>3</li></ol>\n"
      ],
      "text/latex": [
       "\\begin{enumerate*}\n",
       "\\item 1651\n",
       "\\item 3\n",
       "\\end{enumerate*}\n"
      ],
      "text/markdown": [
       "1. 1651\n",
       "2. 3\n",
       "\n",
       "\n"
      ],
      "text/plain": [
       "[1] 1651    3"
      ]
     },
     "metadata": {},
     "output_type": "display_data"
    }
   ],
   "source": [
    "dim(ISC.df[ISC.df$ISC == 1,])"
   ]
  },
  {
   "cell_type": "markdown",
   "id": "c4ef2cc6-f402-4e10-ba43-05133552764b",
   "metadata": {},
   "source": [
    "#### Angina pectoris"
   ]
  },
  {
   "cell_type": "code",
   "execution_count": 26,
   "id": "a22fa934-fe7d-4332-82e4-6a4595b8aeeb",
   "metadata": {},
   "outputs": [
    {
     "data": {
      "text/html": [
       "818"
      ],
      "text/latex": [
       "818"
      ],
      "text/markdown": [
       "818"
      ],
      "text/plain": [
       "[1] 818"
      ]
     },
     "metadata": {},
     "output_type": "display_data"
    },
    {
     "data": {
      "text/html": [
       "20375"
      ],
      "text/latex": [
       "20375"
      ],
      "text/markdown": [
       "20375"
      ],
      "text/plain": [
       "[1] 20375"
      ]
     },
     "metadata": {},
     "output_type": "display_data"
    }
   ],
   "source": [
    "dis.excl.codes = phecode.excl %>% filter(code == '411.3')\n",
    "dis.excl.codes = dis.excl.codes$exclusion_criteria\n",
    "\n",
    "dis.excl.ind = target.icd %>% filter(phecode %in% dis.excl.codes)\n",
    "dis.excl.samples = dis.excl.ind$sample\n",
    "\n",
    "dis.cases = target.icd %>% filter(phecode == '411.3')\n",
    "dis.cases = dis.cases$sample\n",
    "\n",
    "dis.controls = target.ids %>% filter(!FID %in% dis.cases) %>% filter(!FID %in% dis.excl.samples)\n",
    "dis.controls = dis.controls$FID\n",
    "\n",
    "# Cases and controls\n",
    "cases = rep(1,length(dis.cases))\n",
    "length(cases)\n",
    "controls = rep(0,length(dis.controls))\n",
    "length(controls)\n",
    "ANG = c(cases,controls)\n",
    "FID = c(dis.cases, dis.controls)\n",
    "IID = FID\n",
    "ANG.df = data.frame(FID,IID,ANG)\n",
    "write.table(ANG.df, 'disease_table/ang.pheno', col.names = TRUE, row.names = FALSE, quote = FALSE)"
   ]
  },
  {
   "cell_type": "markdown",
   "id": "434f1dbc-ddac-4c4e-b203-925a90dca495",
   "metadata": {
    "tags": []
   },
   "source": [
    "#### Myocardial infarction"
   ]
  },
  {
   "cell_type": "code",
   "execution_count": 28,
   "id": "009993ae-f31e-436b-a67d-e2f8a7645f6f",
   "metadata": {},
   "outputs": [
    {
     "data": {
      "text/html": [
       "756"
      ],
      "text/latex": [
       "756"
      ],
      "text/markdown": [
       "756"
      ],
      "text/plain": [
       "[1] 756"
      ]
     },
     "metadata": {},
     "output_type": "display_data"
    },
    {
     "data": {
      "text/html": [
       "20375"
      ],
      "text/latex": [
       "20375"
      ],
      "text/markdown": [
       "20375"
      ],
      "text/plain": [
       "[1] 20375"
      ]
     },
     "metadata": {},
     "output_type": "display_data"
    }
   ],
   "source": [
    "dis.excl.codes = phecode.excl %>% filter(code == '411.2')\n",
    "dis.excl.codes = dis.excl.codes$exclusion_criteria\n",
    "\n",
    "dis.excl.ind = target.icd %>% filter(phecode %in% dis.excl.codes)\n",
    "dis.excl.samples = dis.excl.ind$sample\n",
    "\n",
    "dis.cases = target.icd %>% filter(phecode == '411.2')\n",
    "dis.cases = dis.cases$sample\n",
    "\n",
    "dis.controls = target.ids %>% filter(!FID %in% dis.cases) %>% filter(!FID %in% dis.excl.samples)\n",
    "dis.controls = dis.controls$FID\n",
    "\n",
    "# Cases and controls\n",
    "cases = rep(1,length(dis.cases))\n",
    "length(cases)\n",
    "controls = rep(0,length(dis.controls))\n",
    "length(controls)\n",
    "MYO = c(cases,controls)\n",
    "FID = c(dis.cases, dis.controls)\n",
    "IID = FID\n",
    "MYO.df = data.frame(FID,IID,MYO)\n",
    "write.table(MYO.df, 'disease_table/myo.pheno', col.names = TRUE, row.names = FALSE, quote = FALSE)"
   ]
  },
  {
   "cell_type": "markdown",
   "id": "b147b2ba-902d-48cf-8383-5b1c4389ad91",
   "metadata": {},
   "source": [
    "#### Coronary atherosclerosis"
   ]
  },
  {
   "cell_type": "code",
   "execution_count": 29,
   "id": "ff172530-31c4-4d12-8091-1fa02ace94e0",
   "metadata": {},
   "outputs": [
    {
     "data": {
      "text/html": [
       "1251"
      ],
      "text/latex": [
       "1251"
      ],
      "text/markdown": [
       "1251"
      ],
      "text/plain": [
       "[1] 1251"
      ]
     },
     "metadata": {},
     "output_type": "display_data"
    },
    {
     "data": {
      "text/html": [
       "20375"
      ],
      "text/latex": [
       "20375"
      ],
      "text/markdown": [
       "20375"
      ],
      "text/plain": [
       "[1] 20375"
      ]
     },
     "metadata": {},
     "output_type": "display_data"
    }
   ],
   "source": [
    "dis.excl.codes = phecode.excl %>% filter(code == '411.4')\n",
    "dis.excl.codes = dis.excl.codes$exclusion_criteria\n",
    "\n",
    "dis.excl.ind = target.icd %>% filter(phecode %in% dis.excl.codes)\n",
    "dis.excl.samples = dis.excl.ind$sample\n",
    "\n",
    "dis.cases = target.icd %>% filter(phecode == '411.4')\n",
    "dis.cases = dis.cases$sample\n",
    "\n",
    "dis.controls = target.ids %>% filter(!FID %in% dis.cases) %>% filter(!FID %in% dis.excl.samples)\n",
    "dis.controls = dis.controls$FID\n",
    "\n",
    "# Cases and controls\n",
    "cases = rep(1,length(dis.cases))\n",
    "length(cases)\n",
    "controls = rep(0,length(dis.controls))\n",
    "length(controls)\n",
    "CAD = c(cases,controls)\n",
    "FID = c(dis.cases, dis.controls)\n",
    "IID = FID\n",
    "CAD.df = data.frame(FID,IID,CAD)\n",
    "write.table(CAD.df, 'disease_table/cad.pheno', col.names = TRUE, row.names = FALSE, quote = FALSE)"
   ]
  },
  {
   "cell_type": "markdown",
   "id": "bd1a3d38-b44e-4859-8c05-8d44b86ebe75",
   "metadata": {},
   "source": [
    "#### Hypertension"
   ]
  },
  {
   "cell_type": "code",
   "execution_count": 31,
   "id": "2b19a444-a3a5-462c-a860-a7226f4e8df8",
   "metadata": {},
   "outputs": [
    {
     "data": {
      "text/html": [
       "5417"
      ],
      "text/latex": [
       "5417"
      ],
      "text/markdown": [
       "5417"
      ],
      "text/plain": [
       "[1] 5417"
      ]
     },
     "metadata": {},
     "output_type": "display_data"
    },
    {
     "data": {
      "text/html": [
       "16698"
      ],
      "text/latex": [
       "16698"
      ],
      "text/markdown": [
       "16698"
      ],
      "text/plain": [
       "[1] 16698"
      ]
     },
     "metadata": {},
     "output_type": "display_data"
    }
   ],
   "source": [
    "dis.excl.codes = phecode.excl %>% filter(code == '401.1') %>% filter(!code == '571.81')\n",
    "dis.excl.codes = dis.excl.codes$exclusion_criteria\n",
    "\n",
    "dis.excl.ind = target.icd %>% filter(phecode %in% dis.excl.codes)\n",
    "dis.excl.samples = dis.excl.ind$sample\n",
    "\n",
    "dis.cases = target.icd %>% filter(phecode == '401.1')\n",
    "dis.cases = dis.cases$sample\n",
    "\n",
    "dis.controls = target.ids %>% filter(!FID %in% dis.cases) %>% filter(!FID %in% dis.excl.samples)\n",
    "dis.controls = dis.controls$FID\n",
    "\n",
    "# Cases and controls\n",
    "cases = rep(1,length(dis.cases))\n",
    "length(cases)\n",
    "controls = rep(0,length(dis.controls))\n",
    "length(controls)\n",
    "HYP = c(cases,controls)\n",
    "FID = c(dis.cases, dis.controls)\n",
    "IID = FID\n",
    "HYP.df = data.frame(FID,IID,HYP)\n",
    "write.table(HYP.df, 'disease_table/hyp.pheno', col.names = TRUE, row.names = FALSE, quote = FALSE)"
   ]
  },
  {
   "cell_type": "markdown",
   "id": "7b4b23a5-a634-41a1-9f5c-887c083d8384",
   "metadata": {},
   "source": [
    "### Musculoskeletal disorders"
   ]
  },
  {
   "cell_type": "markdown",
   "id": "8702baf9-ed41-4882-a89e-7232fb96eb1e",
   "metadata": {},
   "source": [
    "#### Low back pain (Dorsopathy)"
   ]
  },
  {
   "cell_type": "code",
   "execution_count": 33,
   "id": "9703f001-386d-47a0-b38c-e1db2673966d",
   "metadata": {},
   "outputs": [
    {
     "data": {
      "text/html": [
       "166"
      ],
      "text/latex": [
       "166"
      ],
      "text/markdown": [
       "166"
      ],
      "text/plain": [
       "[1] 166"
      ]
     },
     "metadata": {},
     "output_type": "display_data"
    },
    {
     "data": {
      "text/html": [
       "21340"
      ],
      "text/latex": [
       "21340"
      ],
      "text/markdown": [
       "21340"
      ],
      "text/plain": [
       "[1] 21340"
      ]
     },
     "metadata": {},
     "output_type": "display_data"
    }
   ],
   "source": [
    "dis.excl.codes = phecode.excl %>% filter(code == '721')\n",
    "dis.excl.codes = dis.excl.codes$exclusion_criteria\n",
    "\n",
    "dis.excl.ind = target.icd %>% filter(phecode %in% dis.excl.codes)\n",
    "dis.excl.samples = dis.excl.ind$sample\n",
    "\n",
    "dis.cases = target.icd %>% filter(phecode == '721')\n",
    "dis.cases = dis.cases$sample\n",
    "\n",
    "dis.controls = target.ids %>% filter(!FID %in% dis.cases) %>% filter(!FID %in% dis.excl.samples)\n",
    "dis.controls = dis.controls$FID\n",
    "\n",
    "# Cases and controls\n",
    "cases = rep(1,length(dis.cases))\n",
    "length(cases)\n",
    "controls = rep(0,length(dis.controls))\n",
    "length(controls)\n",
    "BPAIN = c(cases,controls)\n",
    "FID = c(dis.cases, dis.controls)\n",
    "IID = FID\n",
    "BPAIN.df = data.frame(FID,IID,BPAIN)\n",
    "write.table(BPAIN.df, 'disease_table/bpain.pheno', col.names = TRUE, row.names = FALSE, quote = FALSE)"
   ]
  },
  {
   "cell_type": "markdown",
   "id": "6b506d23-b524-447f-a387-eca5a3905298",
   "metadata": {},
   "source": [
    "#### Low back pain (Cervicalgia)"
   ]
  },
  {
   "cell_type": "code",
   "execution_count": 35,
   "id": "cb8d0ffc-bad3-4c65-82e8-08f8f43e0a66",
   "metadata": {},
   "outputs": [
    {
     "data": {
      "text/html": [
       "80"
      ],
      "text/latex": [
       "80"
      ],
      "text/markdown": [
       "80"
      ],
      "text/plain": [
       "[1] 80"
      ]
     },
     "metadata": {},
     "output_type": "display_data"
    },
    {
     "data": {
      "text/html": [
       "22038"
      ],
      "text/latex": [
       "22038"
      ],
      "text/markdown": [
       "22038"
      ],
      "text/plain": [
       "[1] 22038"
      ]
     },
     "metadata": {},
     "output_type": "display_data"
    }
   ],
   "source": [
    "dis.excl.codes = phecode.excl %>% filter(code == '761')\n",
    "dis.excl.codes = dis.excl.codes$exclusion_criteria\n",
    "\n",
    "dis.excl.ind = target.icd %>% filter(phecode %in% dis.excl.codes)\n",
    "dis.excl.samples = dis.excl.ind$sample\n",
    "\n",
    "dis.cases = target.icd %>% filter(phecode == '761')\n",
    "dis.cases = dis.cases$sample\n",
    "\n",
    "dis.controls = target.ids %>% filter(!FID %in% dis.cases) %>% filter(!FID %in% dis.excl.samples)\n",
    "dis.controls = dis.controls$FID\n",
    "\n",
    "# Cases and controls\n",
    "cases = rep(1,length(dis.cases))\n",
    "length(cases)\n",
    "controls = rep(0,length(dis.controls))\n",
    "length(controls)\n",
    "NPAIN = c(cases,controls)\n",
    "FID = c(dis.cases, dis.controls)\n",
    "IID = FID\n",
    "NPAIN.df = data.frame(FID,IID,NPAIN)\n",
    "write.table(NPAIN.df, 'disease_table/npain.pheno', col.names = TRUE, row.names = FALSE, quote = FALSE)"
   ]
  },
  {
   "cell_type": "markdown",
   "id": "40dd0eae-5315-4aba-9cc4-3399541e8dbd",
   "metadata": {
    "tags": []
   },
   "source": [
    "#### Osteoarthritis"
   ]
  },
  {
   "cell_type": "code",
   "execution_count": 36,
   "id": "273b965e-5731-4775-a460-06b5f6023308",
   "metadata": {},
   "outputs": [
    {
     "data": {
      "text/html": [
       "2262"
      ],
      "text/latex": [
       "2262"
      ],
      "text/markdown": [
       "2262"
      ],
      "text/plain": [
       "[1] 2262"
      ]
     },
     "metadata": {},
     "output_type": "display_data"
    },
    {
     "data": {
      "text/html": [
       "20165"
      ],
      "text/latex": [
       "20165"
      ],
      "text/markdown": [
       "20165"
      ],
      "text/plain": [
       "[1] 20165"
      ]
     },
     "metadata": {},
     "output_type": "display_data"
    }
   ],
   "source": [
    "dis.cases.p = target.icd %>% filter(str_detect(phecode, c('740')))\n",
    "dis.cases = dis.cases.p$sample\n",
    "\n",
    "dis.controls = target.ids %>% filter(!FID %in% dis.cases) \n",
    "dis.controls = dis.controls$FID\n",
    "\n",
    "# Cases and controls\n",
    "cases = rep(1,length(dis.cases))\n",
    "length(cases)\n",
    "controls = rep(0,length(dis.controls))\n",
    "length(controls)\n",
    "OART = c(cases,controls)\n",
    "FID = c(dis.cases, dis.controls)\n",
    "IID = FID\n",
    "OART.df = data.frame(FID,IID,OART)\n",
    "OART.df = OART.df %>% distinct()\n",
    "write.table(OART.df, 'disease_table/oart.pheno', col.names = TRUE, row.names = FALSE, quote = FALSE)"
   ]
  },
  {
   "cell_type": "markdown",
   "id": "c9e988a5-1342-4533-9c8b-ce2d03bd864c",
   "metadata": {},
   "source": [
    "### Immune disorders"
   ]
  },
  {
   "cell_type": "markdown",
   "id": "2fd20dcd-5a2c-4d06-a459-8d560864d1a5",
   "metadata": {
    "tags": []
   },
   "source": [
    "#### Rheumatoid arthritis"
   ]
  },
  {
   "cell_type": "code",
   "execution_count": 38,
   "id": "50366008-1acf-4b23-9c46-f83eaf7c47f0",
   "metadata": {},
   "outputs": [
    {
     "data": {
      "text/html": [
       "337"
      ],
      "text/latex": [
       "337"
      ],
      "text/markdown": [
       "337"
      ],
      "text/plain": [
       "[1] 337"
      ]
     },
     "metadata": {},
     "output_type": "display_data"
    },
    {
     "data": {
      "text/html": [
       "21518"
      ],
      "text/latex": [
       "21518"
      ],
      "text/markdown": [
       "21518"
      ],
      "text/plain": [
       "[1] 21518"
      ]
     },
     "metadata": {},
     "output_type": "display_data"
    }
   ],
   "source": [
    "dis.excl.codes = phecode.excl %>% filter(code == '714.1')\n",
    "dis.excl.codes = dis.excl.codes$exclusion_criteria\n",
    "\n",
    "dis.excl.ind = target.icd %>% filter(phecode %in% dis.excl.codes)\n",
    "dis.excl.samples = dis.excl.ind$sample\n",
    "\n",
    "dis.cases = target.icd %>% filter(phecode == '714.1')\n",
    "dis.cases = dis.cases$sample\n",
    "\n",
    "dis.controls = target.ids %>% filter(!FID %in% dis.cases) %>% filter(!FID %in% dis.excl.samples)\n",
    "dis.controls = dis.controls$FID\n",
    "\n",
    "# Cases and controls\n",
    "cases = rep(1,length(dis.cases))\n",
    "length(cases)\n",
    "controls = rep(0,length(dis.controls))\n",
    "length(controls)\n",
    "RA = c(cases,controls)\n",
    "FID = c(dis.cases, dis.controls)\n",
    "IID = FID\n",
    "RA.df = data.frame(FID,IID,RA)\n",
    "write.table(RA.df, 'disease_table/ra.pheno', col.names = TRUE, row.names = FALSE, quote = FALSE)"
   ]
  },
  {
   "cell_type": "markdown",
   "id": "f37e3160-8fbe-4ba1-a7f3-cdf468708dd3",
   "metadata": {},
   "source": [
    "### Respiratory diseases"
   ]
  },
  {
   "cell_type": "markdown",
   "id": "0c31f12d-6720-45c7-a98b-1f808fe1d422",
   "metadata": {},
   "source": [
    "#### Chronic obstructive pulmonary disease (COPD)"
   ]
  },
  {
   "cell_type": "code",
   "execution_count": 40,
   "id": "3fe04ac3-5e31-46be-badb-70912722bb92",
   "metadata": {},
   "outputs": [
    {
     "data": {
      "text/html": [
       "1254"
      ],
      "text/latex": [
       "1254"
      ],
      "text/markdown": [
       "1254"
      ],
      "text/plain": [
       "[1] 1254"
      ]
     },
     "metadata": {},
     "output_type": "display_data"
    },
    {
     "data": {
      "text/html": [
       "19480"
      ],
      "text/latex": [
       "19480"
      ],
      "text/markdown": [
       "19480"
      ],
      "text/plain": [
       "[1] 19480"
      ]
     },
     "metadata": {},
     "output_type": "display_data"
    }
   ],
   "source": [
    "dis.excl.codes = phecode.excl %>% filter(code %in% c('496','496.1','496.2','496.21'))\n",
    "dis.excl.codes = dis.excl.codes$exclusion_criteria\n",
    "\n",
    "dis.excl.ind = target.icd %>% filter(phecode %in% dis.excl.codes)\n",
    "dis.excl.samples = dis.excl.ind$sample\n",
    "\n",
    "dis.cases = target.icd %>% filter(phecode  %in% c('496','496.1','496.2','496.21'))\n",
    "dis.cases = dis.cases$sample\n",
    "\n",
    "dis.controls = target.ids %>% filter(!FID %in% dis.cases) %>% filter(!FID %in% dis.excl.samples)\n",
    "dis.controls = dis.controls$FID\n",
    "\n",
    "# Cases and controls\n",
    "cases = rep(1,length(dis.cases))\n",
    "length(cases)\n",
    "controls = rep(0,length(dis.controls))\n",
    "length(controls)\n",
    "COPD = c(cases,controls)\n",
    "FID = c(dis.cases, dis.controls)\n",
    "IID = FID\n",
    "COPD.df = data.frame(FID,IID,COPD)\n",
    "write.table(COPD.df, 'disease_table/copd.pheno', col.names = TRUE, row.names = FALSE, quote = FALSE)"
   ]
  },
  {
   "cell_type": "markdown",
   "id": "3827e510-caec-499e-9cf9-3cd356063859",
   "metadata": {},
   "source": [
    "### Mental illnesses"
   ]
  },
  {
   "cell_type": "markdown",
   "id": "7c5aa783-02b5-4ca8-8db2-b4cf605adc3a",
   "metadata": {},
   "source": [
    "#### Anxiety"
   ]
  },
  {
   "cell_type": "code",
   "execution_count": 41,
   "id": "03ad7990-0b30-44d1-895e-2add223514a0",
   "metadata": {},
   "outputs": [
    {
     "data": {
      "text/html": [
       "936"
      ],
      "text/latex": [
       "936"
      ],
      "text/markdown": [
       "936"
      ],
      "text/plain": [
       "[1] 936"
      ]
     },
     "metadata": {},
     "output_type": "display_data"
    },
    {
     "data": {
      "text/html": [
       "18494"
      ],
      "text/latex": [
       "18494"
      ],
      "text/markdown": [
       "18494"
      ],
      "text/plain": [
       "[1] 18494"
      ]
     },
     "metadata": {},
     "output_type": "display_data"
    }
   ],
   "source": [
    "dis.excl.codes = phecode.excl %>% filter(code %in% c('300.1','300.11'))\n",
    "dis.excl.codes = dis.excl.codes$exclusion_criteria\n",
    "\n",
    "dis.excl.ind = target.icd %>% filter(phecode %in% dis.excl.codes)\n",
    "dis.excl.samples = dis.excl.ind$sample\n",
    "\n",
    "dis.cases = target.icd %>% filter(phecode  %in% c('300.1','300.11'))\n",
    "dis.cases = dis.cases$sample\n",
    "\n",
    "dis.controls = target.ids %>% filter(!FID %in% dis.cases) %>% filter(!FID %in% dis.excl.samples)\n",
    "dis.controls = dis.controls$FID\n",
    "\n",
    "# Cases and controls\n",
    "cases = rep(1,length(dis.cases))\n",
    "length(cases)\n",
    "controls = rep(0,length(dis.controls))\n",
    "length(controls)\n",
    "ANX = c(cases,controls)\n",
    "FID = c(dis.cases, dis.controls)\n",
    "IID = FID\n",
    "ANX.df = data.frame(FID,IID,ANX)\n",
    "write.table(ANX.df, 'disease_table/anx.pheno', col.names = TRUE, row.names = FALSE, quote = FALSE)"
   ]
  },
  {
   "cell_type": "markdown",
   "id": "1aea1ad2-9fbe-48aa-9f79-728f91ba3a2a",
   "metadata": {},
   "source": [
    "#### Depression"
   ]
  },
  {
   "cell_type": "code",
   "execution_count": 42,
   "id": "ef6c296a-df1f-409b-9aa8-56958d4aee57",
   "metadata": {},
   "outputs": [],
   "source": [
    "dis.excl.codes = phecode.excl %>% filter(code == '296.2')\n",
    "dis.excl.codes = dis.excl.codes$exclusion_criteria\n",
    "\n",
    "dis.excl.ind = target.icd %>% filter(phecode %in% dis.excl.codes)\n",
    "dis.excl.samples = dis.excl.ind$sample\n",
    "\n",
    "dis.cases = target.icd %>% filter(phecode == '296.2')\n",
    "dis.cases = dis.cases$sample\n",
    "\n",
    "dis.controls = target.ids %>% filter(!FID %in% dis.cases) %>% filter(!FID %in% dis.excl.samples)\n",
    "dis.controls = dis.controls$FID"
   ]
  },
  {
   "cell_type": "code",
   "execution_count": 43,
   "id": "cc69c9cb-a214-4b81-8e76-b22a4fdb31b7",
   "metadata": {},
   "outputs": [
    {
     "data": {
      "text/html": [
       "<table class=\"dataframe\">\n",
       "<caption>A data.frame: 0 × 7</caption>\n",
       "<thead>\n",
       "\t<tr><th scope=col>sample</th><th scope=col>code</th><th scope=col>meaning</th><th scope=col>icd</th><th scope=col>phecode</th><th scope=col>description</th><th scope=col>group</th></tr>\n",
       "\t<tr><th scope=col>&lt;chr&gt;</th><th scope=col>&lt;chr&gt;</th><th scope=col>&lt;chr&gt;</th><th scope=col>&lt;chr&gt;</th><th scope=col>&lt;chr&gt;</th><th scope=col>&lt;chr&gt;</th><th scope=col>&lt;chr&gt;</th></tr>\n",
       "</thead>\n",
       "<tbody>\n",
       "</tbody>\n",
       "</table>\n"
      ],
      "text/latex": [
       "A data.frame: 0 × 7\n",
       "\\begin{tabular}{lllllll}\n",
       " sample & code & meaning & icd & phecode & description & group\\\\\n",
       " <chr> & <chr> & <chr> & <chr> & <chr> & <chr> & <chr>\\\\\n",
       "\\hline\n",
       "\\end{tabular}\n"
      ],
      "text/markdown": [
       "\n",
       "A data.frame: 0 × 7\n",
       "\n",
       "| sample &lt;chr&gt; | code &lt;chr&gt; | meaning &lt;chr&gt; | icd &lt;chr&gt; | phecode &lt;chr&gt; | description &lt;chr&gt; | group &lt;chr&gt; |\n",
       "|---|---|---|---|---|---|---|\n",
       "\n"
      ],
      "text/plain": [
       "     sample code meaning icd phecode description group"
      ]
     },
     "metadata": {},
     "output_type": "display_data"
    }
   ],
   "source": [
    "dis.cases = target.icd %>% filter(phecode == '296.2')\n",
    "dis.cases"
   ]
  },
  {
   "cell_type": "markdown",
   "id": "863f6855-2299-40d8-85a7-d3161146262a",
   "metadata": {
    "tags": []
   },
   "source": [
    "### Infectious diseases"
   ]
  },
  {
   "cell_type": "markdown",
   "id": "5f4c2eda-43c5-4766-b10b-81099581c313",
   "metadata": {},
   "source": [
    "#### Influenza and pneumonia"
   ]
  },
  {
   "cell_type": "code",
   "execution_count": 45,
   "id": "0ab4d2b2-6396-4503-afae-519e6e98507f",
   "metadata": {},
   "outputs": [
    {
     "data": {
      "text/html": [
       "445"
      ],
      "text/latex": [
       "445"
      ],
      "text/markdown": [
       "445"
      ],
      "text/plain": [
       "[1] 445"
      ]
     },
     "metadata": {},
     "output_type": "display_data"
    },
    {
     "data": {
      "text/html": [
       "20961"
      ],
      "text/latex": [
       "20961"
      ],
      "text/markdown": [
       "20961"
      ],
      "text/plain": [
       "[1] 20961"
      ]
     },
     "metadata": {},
     "output_type": "display_data"
    }
   ],
   "source": [
    "dis.excl.codes = phecode.excl %>% filter(code == '480')\n",
    "dis.excl.codes = dis.excl.codes$exclusion_criteria\n",
    "\n",
    "dis.excl.ind = target.icd %>% filter(phecode %in% dis.excl.codes)\n",
    "dis.excl.samples = dis.excl.ind$sample\n",
    "\n",
    "dis.cases = target.icd %>% filter(phecode == '480')\n",
    "dis.cases = dis.cases$sample\n",
    "\n",
    "dis.controls = target.ids %>% filter(!FID %in% dis.cases) %>% filter(!FID %in% dis.excl.samples)\n",
    "dis.controls = dis.controls$FID\n",
    "\n",
    "# Cases and controls\n",
    "cases = rep(1,length(dis.cases))\n",
    "length(cases)\n",
    "controls = rep(0,length(dis.controls))\n",
    "length(controls)\n",
    "FLU = c(cases,controls)\n",
    "FID = c(dis.cases, dis.controls)\n",
    "IID = FID\n",
    "FLU.df = data.frame(FID,IID,FLU)\n",
    "write.table(FLU.df, 'disease_table/flu.pheno', col.names = TRUE, row.names = FALSE, quote = FALSE)"
   ]
  },
  {
   "cell_type": "markdown",
   "id": "984dab17-1a21-4e92-a1f9-dd53801c3699",
   "metadata": {},
   "source": [
    "### Cancer"
   ]
  },
  {
   "cell_type": "markdown",
   "id": "03cfd16b-52f6-4a78-add7-2e419abc0398",
   "metadata": {},
   "source": [
    "#### Prostate cancer (males)"
   ]
  },
  {
   "cell_type": "code",
   "execution_count": 46,
   "id": "305441e4-bc19-4e77-81a4-4dba8d082eed",
   "metadata": {
    "tags": []
   },
   "outputs": [],
   "source": [
    "target.males = target.icd %>% filter(sample %in% males$FID)\n",
    "males.ids = males"
   ]
  },
  {
   "cell_type": "code",
   "execution_count": 47,
   "id": "44c2ab3a-9363-46a8-9767-1d5c5fc40041",
   "metadata": {},
   "outputs": [
    {
     "data": {
      "text/html": [
       "463"
      ],
      "text/latex": [
       "463"
      ],
      "text/markdown": [
       "463"
      ],
      "text/plain": [
       "[1] 463"
      ]
     },
     "metadata": {},
     "output_type": "display_data"
    },
    {
     "data": {
      "text/html": [
       "7454"
      ],
      "text/latex": [
       "7454"
      ],
      "text/markdown": [
       "7454"
      ],
      "text/plain": [
       "[1] 7454"
      ]
     },
     "metadata": {},
     "output_type": "display_data"
    }
   ],
   "source": [
    "dis.excl.codes = phecode.excl %>% filter(code == '185')\n",
    "dis.excl.codes = dis.excl.codes$exclusion_criteria\n",
    "\n",
    "dis.excl.ind = target.males %>% filter(phecode %in% dis.excl.codes)\n",
    "dis.excl.samples = dis.excl.ind$sample\n",
    "\n",
    "dis.cases = target.males %>% filter(phecode == '185')\n",
    "dis.cases = dis.cases$sample\n",
    "\n",
    "dis.controls = males.ids %>% filter(!FID %in% dis.cases) %>% filter(!FID %in% dis.excl.samples)\n",
    "dis.controls = dis.controls$FID\n",
    "\n",
    "# Cases and controls\n",
    "cases = rep(1,length(dis.cases))\n",
    "length(cases)\n",
    "controls = rep(0,length(dis.controls))\n",
    "length(controls)\n",
    "PROST = c(cases,controls)\n",
    "FID = c(dis.cases, dis.controls)\n",
    "IID = FID\n",
    "PROST.df = data.frame(FID,IID,PROST)\n",
    "write.table(PROST.df, 'disease_table/prost.pheno', col.names = TRUE, row.names = FALSE, quote = FALSE)"
   ]
  },
  {
   "cell_type": "markdown",
   "id": "d0d7dc42-2fc6-4b76-9ca5-cf5e3b9d2f80",
   "metadata": {},
   "source": [
    "#### Breast cancer (females)"
   ]
  },
  {
   "cell_type": "code",
   "execution_count": 48,
   "id": "9c3724e9-62de-42c9-8ce4-f08d92789879",
   "metadata": {},
   "outputs": [],
   "source": [
    "target.females = target.icd %>% filter(sample %in% females$FID)\n",
    "females.ids = females"
   ]
  },
  {
   "cell_type": "code",
   "execution_count": 49,
   "id": "ee9c2232-44ef-4755-821c-0272bedfd457",
   "metadata": {},
   "outputs": [
    {
     "data": {
      "text/html": [
       "1908"
      ],
      "text/latex": [
       "1908"
      ],
      "text/markdown": [
       "1908"
      ],
      "text/plain": [
       "[1] 1908"
      ]
     },
     "metadata": {},
     "output_type": "display_data"
    },
    {
     "data": {
      "text/html": [
       "12234"
      ],
      "text/latex": [
       "12234"
      ],
      "text/markdown": [
       "12234"
      ],
      "text/plain": [
       "[1] 12234"
      ]
     },
     "metadata": {},
     "output_type": "display_data"
    }
   ],
   "source": [
    "dis.cases.p = target.females %>% filter(str_detect(phecode, c('174.1')))\n",
    "dis.cases = dis.cases.p$sample\n",
    "\n",
    "dis.controls = females.ids %>% filter(!FID %in% dis.cases) \n",
    "dis.controls = dis.controls$FID\n",
    "\n",
    "# Cases and controls\n",
    "cases = rep(1,length(dis.cases))\n",
    "length(cases)\n",
    "controls = rep(0,length(dis.controls))\n",
    "length(controls)\n",
    "BREAST = c(cases,controls)\n",
    "FID = c(dis.cases, dis.controls)\n",
    "IID = FID\n",
    "BREAST.df = data.frame(FID,IID,BREAST)\n",
    "BREAST.df = BREAST.df %>% distinct()\n",
    "write.table(BREAST.df, 'disease_table/breast.pheno', col.names = TRUE, row.names = FALSE, quote = FALSE)"
   ]
  }
 ],
 "metadata": {
  "kernelspec": {
   "display_name": "r-precisionh",
   "language": "R",
   "name": "r"
  },
  "language_info": {
   "codemirror_mode": "r",
   "file_extension": ".r",
   "mimetype": "text/x-r-source",
   "name": "R",
   "pygments_lexer": "r",
   "version": "4.1.3"
  }
 },
 "nbformat": 4,
 "nbformat_minor": 5
}
